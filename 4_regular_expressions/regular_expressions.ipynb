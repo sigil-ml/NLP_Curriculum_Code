{
 "cells": [
  {
   "cell_type": "code",
   "execution_count": null,
   "metadata": {},
   "outputs": [],
   "source": [
    "import re"
   ]
  },
  {
   "cell_type": "markdown",
   "metadata": {},
   "source": [
    "### Introduction and Encyclopedia"
   ]
  },
  {
   "cell_type": "markdown",
   "metadata": {},
   "source": [
    "This is an introduction to **regular expressions**, commonly called **regex**, a powerful method for finding patterns in text.  It has a steep learning curve, but once mastered it can save enormous amounts of time.  There are two things that need to be learned.\n",
    "\n",
    "1) The regex syntax for defining a pattern.  This is nearly constant across languages that implement regular expressions, and the differences tend to be in the edge cases.  We will study the Python implementation.\n",
    "2) A library, language, or tool that provides regex functionality.  We will use the `re` package, but `pandas` also has some functionality, and `grep` can be used at a Linux terminal.\n",
    "\n",
    "The files begins with an encyclopedic reference so you'll have a cheatsheet once you know some regex fundamentals.  But for the purpose of the presentation, we will skip past and introduce them systematically.  It's not completely comprehensive, but should cover 99% of the situations you might need a regex for.\n"
   ]
  },
  {
   "cell_type": "markdown",
   "metadata": {},
   "source": [
    "#### Special Characters and Sequences\n"
   ]
  },
  {
   "cell_type": "markdown",
   "metadata": {},
   "source": [
    "| Symbol            | Purpose                                                                       | Other                                                                     |\n",
    "| ----              | ----                                                                          | ----                                                                      | \n",
    "|`.`                | Wildcard that matches anything except a newline.                              | If inside character class, matches only literal `.`.                            |       \n",
    "|`^`                | Matches start of string and immediately after a newline.                      | If first character inside character class, negates or complements class.                   |\n",
    "|`$`                | Matches end of string or just before a newline.                               |                                                                           |\n",
    "|`-`                | If inside a character class, can be used to define a range.\n",
    "|`?`                | Quantifier matching 0 or 1 repetitions of the preceeding segment.             | If used after another quantifier, makes it non-greedy.  If used after `(`, defines a lookaround.  |\n",
    "|`+`                | Quantifier matching 1 or more of the preceeding segment.                      | If used after another quantifier, makes it greedy without backtracking.   |\n",
    "|`*`                | Quantifier matching 0 or more reptitions of the preceeding segment.           |           \n",
    "|`{m}`              | Quantifier matching exactly `m` repetitions of the preceeding segment.        |\n",
    "|`{m,n}`            | Quantifier matching between `m` and `n` repetitions of the preceeding segment.| Either of `m` or `n` can be left blank to get \"less than\" and \"greater than\" behavior. |\n",
    "|`\\`                | Escapes special characters (when necessary).                                  | References one of many built-in character classes.                        |\n",
    "|`\\|`               | Alternation; that is, \"or\" logic.                                             |                                                                           |\n",
    "|`[...]`            | Creates a character class.\n",
    "|`(...)`            | Captures a group for later reference.\n",
    "|`\\n`               | Backreference to group `n` (must be positive integer)  \n",
    "|`(?P<name>...)`    | Captures a group that can be referenced by `<name>`\n",
    "|`(?P=<name>)`      | Backreference to `<name>`\n",
    "|`(?...)`           | A non-capturing group.\n",
    "|`(?=...)`          | Positive lookahead.\n",
    "|`(?!...)`          | Negative lookahead.\n",
    "|`(?<=...)`         | Positive lookbehind.\n",
    "|`(?<!...)`         | Negative lookbehind."
   ]
  },
  {
   "cell_type": "markdown",
   "metadata": {},
   "source": [
    "#### Built-in Character Classes\n"
   ]
  },
  {
   "cell_type": "markdown",
   "metadata": {},
   "source": [
    "| Symbol        | Purpose   |\n",
    "| ----          | ----      |\n",
    "| `\\d`          | A digit: 0, 1, 2, 3, 4, 5, 6, 7, 8, 9.\n",
    "| `\\D`          | Anything that is not a digit.\n",
    "| `\\w`          | A word character, which confusingly includes numbers.  That is, alphanumerics regardless of case.\n",
    "| `\\W`          | Anything that is not a word character.\n",
    "| `\\s`          | A space (or whitespace, if you prefer). Spaces, tabs, newlines, etc.\n",
    "| `\\S`          | Anything that is not whitespace.\n",
    "| `\\b`          | A word boundary, matching the empty string but only before or after word characters.\n",
    "| `\\B`          | Matches the empty string except when it is a word boundary.\n",
    "\n"
   ]
  },
  {
   "cell_type": "markdown",
   "metadata": {},
   "source": [
    "#### `re` Functions"
   ]
  },
  {
   "cell_type": "markdown",
   "metadata": {},
   "source": [
    "The order is a mix of complexity and usefulness according to my subjective and fallible opinion.  Again, this is most but not all of the functions.\n",
    "\n",
    "| Function                              | Description |\n",
    "| ----                                  | ----        |\n",
    "|`re.findall(pattern, text)`            | Looks for all occurences of the pattern, returning a list of strings.|\n",
    "|`re.sub(pattern, replacement, text)`   | Replaces every occurence of the pattern with the replacement, which can be a function.|\n",
    "|`re.split(pattern, text)`              | Splits the string wherever the pattern is found.|\n",
    "|`re.compile(pattern)`                  | Creates an `re.Pattern` object.|\n",
    "|`re.search(pattern, text)`             | Looks for the first occurence of the pattern, returning an `re.Match` object.|\n",
    "|`re.finditer(pattern, text)`           | Similar to `findall()` but returns an iterator over `re.Match` objects.|\n",
    "|`re.match(pattern, text)`              | Looks for a match at the beginning of the string.|\n",
    "|`re.fullmatch(pattern, text)`          | Looks to see if the entire string is a match.|\n",
    "|`re.escape(pattern)`                   | Escapes all special characters, yielding a literal string to be matched.\n"
   ]
  },
  {
   "cell_type": "markdown",
   "metadata": {},
   "source": [
    "#### `Pattern` Methods and Attributes"
   ]
  },
  {
   "cell_type": "markdown",
   "metadata": {},
   "source": [
    "| Method / Attribute                    | Description |\n",
    "| ----                                  | ----        |\n",
    "|`Pattern.search(string)`               | Similar to `re.search()`, but called as a method from the pattern instead of passing it in as an argument. |\n",
    "|`Pattern.match(string)`                | Similar to `re.match()`.\n",
    "|`Pattern.fullmatch(string)`            | Similar to `re.fullmatch()`.\n",
    "|`Pattern.split()`                      | Similar to `re.split()`.\n",
    "|`Pattern.findall()`                    | Similar to `re.findall()`.\n",
    "|`Pattern.finditer()`                   | Similar to `re.finditer()`.\n",
    "|`Pattern.sub()`                        | Similar to `re.sub()`.\n",
    "|`Pattern.groups()`                     | The number of groups captured by the pattern.\n",
    "|`Pattern.groupindex()`                 | A dictionary with group names as keys and group number as values."
   ]
  },
  {
   "cell_type": "markdown",
   "metadata": {},
   "source": [
    "#### `Match` Methods and Attributes"
   ]
  },
  {
   "cell_type": "markdown",
   "metadata": {},
   "source": [
    "| Method / Attribute                    | Description |\n",
    "| ----                                  | ----        |\n",
    "|`Match.start()`        |Gives index of original string where the match starts.|\n",
    "|`Match.end()`          |Similar, but the end.|\n",
    "|`Match.span()`         |A tuple with the start and end indices.|\n",
    "|`Match.pos`            |The beginning index of the search that found the match.|\n",
    "|`Match.endpos`         |The end index of the search that found the match.|\n",
    "|`Match.group()`        |Returns a subgroup of the match.|\n",
    "|`Match.groups()`       |Returns a tuple of all groups.|\n",
    "|`Match.groupdict()`    |Returns a dictionary with named groups.|\n",
    "|`Match.re`             |Returns the pattern the match was found from.|\n",
    "|`Match.string`         |Returns the original string the match was found in.|"
   ]
  },
  {
   "cell_type": "markdown",
   "metadata": {},
   "source": [
    "### Basic literals"
   ]
  },
  {
   "cell_type": "markdown",
   "metadata": {},
   "source": [
    "\n",
    "A regex is a sequence of characters that describes a textual pattern.  The most basic type of pattern is a literal expression.  If you just want to find all occurences, use `re.findall(pattern, text)`."
   ]
  },
  {
   "cell_type": "code",
   "execution_count": null,
   "metadata": {},
   "outputs": [],
   "source": [
    "text = \"My name is Steve Carden, I was born in 1985, and my email address is stephen.carden.1@us.af.mil. I used to teach statistics, and now I am learning to be a software engineer.\"\n",
    "\n",
    "# This only shows up once\n",
    "print(re.findall(\"Steve\", text))\n",
    "\n",
    "# This appears multiple times\n",
    "print(re.findall(\"is\", text))"
   ]
  },
  {
   "cell_type": "markdown",
   "metadata": {},
   "source": [
    "By default, regular expressions are case sensitive."
   ]
  },
  {
   "cell_type": "code",
   "execution_count": null,
   "metadata": {},
   "outputs": [],
   "source": [
    "print(re.findall(\"steve\", text))"
   ]
  },
  {
   "cell_type": "markdown",
   "metadata": {},
   "source": [
    "`re.sub()` is nice for replacing one pattern with something else.  For now the replacement will be a static string, but later we'll learn how to make it a function of the match."
   ]
  },
  {
   "cell_type": "code",
   "execution_count": null,
   "metadata": {},
   "outputs": [],
   "source": [
    "# Suppose I decided to go by my middle name, Wesley.\n",
    "print(re.sub(\"Steve\", \"Wesley\", text))\n",
    "\n",
    "# Or change the tense (mostly, anyway)\n",
    "print(re.sub(\"is\", \"was\", text))\n",
    "\n",
    "# See how this is different?  More clever solutions are later.\n",
    "print(re.sub(\" is \", \" was \", text))"
   ]
  },
  {
   "cell_type": "markdown",
   "metadata": {},
   "source": [
    "`re.split()` splits the string wherever the pattern is found.  We can use this with simple whitespace to create a janky tokenizer (improvable with forthcoming techniques)."
   ]
  },
  {
   "cell_type": "code",
   "execution_count": null,
   "metadata": {},
   "outputs": [],
   "source": [
    "print(re.split(\" \", text))"
   ]
  },
  {
   "cell_type": "markdown",
   "metadata": {},
   "source": [
    "### `Match` objects"
   ]
  },
  {
   "cell_type": "markdown",
   "metadata": {},
   "source": [
    "`re.search()` only finds the first occurence, but it returns a `Match` object that contains more information."
   ]
  },
  {
   "cell_type": "code",
   "execution_count": null,
   "metadata": {},
   "outputs": [],
   "source": [
    "match = re.search(\"Steve\", text)\n",
    "print(match)\n",
    "print(type(match))\n",
    "print(match.start())\n",
    "print(match.end())\n",
    "print(match.span())\n",
    "print(match.re)\n",
    "print(match.string)"
   ]
  },
  {
   "cell_type": "markdown",
   "metadata": {},
   "source": [
    "If you want to be able to access a `Match` object for all occurences, `re.finditer()` is your friend."
   ]
  },
  {
   "cell_type": "code",
   "execution_count": null,
   "metadata": {},
   "outputs": [],
   "source": [
    "# Where does the pattern \"is\" occur?\n",
    "matches = re.finditer(\"is\", text)\n",
    "print(matches)\n",
    "for m in matches:\n",
    "    print(m.span())"
   ]
  },
  {
   "cell_type": "markdown",
   "metadata": {},
   "source": [
    "### Exercise 1"
   ]
  },
  {
   "cell_type": "code",
   "execution_count": null,
   "metadata": {},
   "outputs": [],
   "source": [
    "text = \"My name is Steve Carden, I was born in 1985, and my email address is stephen.carden.1@us.af.mil. I used to teach statistics, and now I am learning to be a software engineer.\"\n",
    "\n",
    "# Make substitutions in the above string so that it applies to you.\n",
    "\n",
    "# At what index does the \"@\" in your email address appear?\n",
    "\n",
    "# What are all the locations where a comma appears?"
   ]
  },
  {
   "cell_type": "markdown",
   "metadata": {},
   "source": [
    "### Special Characters and Backslash Hell"
   ]
  },
  {
   "cell_type": "markdown",
   "metadata": {},
   "source": [
    "The following characters have special meanings to the regex engine: `\\^$.|?*+()[{` .  Some have more than one use, and their behavior depends on the context they are used.  If you want to include one as a literal in a pattern, escape it with a backslash `\\`."
   ]
  },
  {
   "cell_type": "code",
   "execution_count": null,
   "metadata": {},
   "outputs": [],
   "source": [
    "# Attempt to split text into sentences.  What if there was no backslash?  Do you see an easy immediate improvement?\n",
    "re.split(\"\\.\", text)"
   ]
  },
  {
   "cell_type": "code",
   "execution_count": null,
   "metadata": {},
   "outputs": [],
   "source": [
    "# We don't know what \"$\" means to the regex engine yet, but whatever it does, it needs to be escaped.\n",
    "print(re.findall(\"$\", \"I need about $3.50.\"))\n",
    "print(re.findall(\"\\$\", \"I need about $3.50.\"))\n"
   ]
  },
  {
   "cell_type": "markdown",
   "metadata": {},
   "source": [
    "But remember that backslashes can also have special meaning to the Python interpreter.  Let's step away from regular expressions for the moment and think about Python strings and how backslashes are interpreted.  Consider the following attempts to construct a string."
   ]
  },
  {
   "cell_type": "code",
   "execution_count": null,
   "metadata": {},
   "outputs": [],
   "source": [
    "albert <- \"Einstein said, \"God does not play dice with the universe.\"\""
   ]
  },
  {
   "cell_type": "markdown",
   "metadata": {},
   "source": [
    "There's several ways around this.  You can alternate single and double quotes, use triple quotes (this allows multiline strings which will be handy later), or use backslashes to escape their ability to terminate a string and treat them as simple, literal quotes."
   ]
  },
  {
   "cell_type": "code",
   "execution_count": null,
   "metadata": {},
   "outputs": [],
   "source": [
    "albert1 = 'Einstein said, \"God does not play dice with the universe.\"'\n",
    "# I don't like the extra space from this one, but it seems necessary.  Anyone know a fix?\n",
    "albert2 = \"\"\"Einstein said, \"God does not play dice with the universe.\" \"\"\"\n",
    "albert3 = \"Einstein said, \\\"God does not play dice with the universe.\\\"\"\n",
    "print(albert1)\n",
    "print(albert2)\n",
    "print(albert3)\n"
   ]
  },
  {
   "cell_type": "markdown",
   "metadata": {},
   "source": [
    "Strings and regex patterns that include backslashes are tricky because both Python and the regex engine see backslashes as special characters.  First, just making a string that includes a literal backslash can be hazardous."
   ]
  },
  {
   "cell_type": "code",
   "execution_count": null,
   "metadata": {},
   "outputs": [],
   "source": [
    "slash_explanation = \"Forward slashes lean right /, and backslashes lean left \\\"\n",
    "print(slash_explanation)"
   ]
  },
  {
   "cell_type": "markdown",
   "metadata": {},
   "source": [
    "You need an extra backslash to tell the second one not to be special, and leave its grubby paws off the quotes."
   ]
  },
  {
   "cell_type": "code",
   "execution_count": null,
   "metadata": {},
   "outputs": [],
   "source": [
    "slash_explanation = \"Forward slashes lean right /, and backslashes lean left \\\\\"\n",
    "print(slash_explanation)\n",
    "# More confusion: Outputting a string with a backslash to the console shows two, even though printing shows one (and only one exists!)\n",
    "slash_explanation"
   ]
  },
  {
   "cell_type": "markdown",
   "metadata": {},
   "source": [
    "Now I would like to match occurrences of a backslash.  Here's where my head starts to spin.  If you need to escape escapi-ness at both the Python and regex level, how many are needed to end up with one backslash?"
   ]
  },
  {
   "cell_type": "code",
   "execution_count": null,
   "metadata": {},
   "outputs": [],
   "source": [
    "m = re.search(\"\\\", slash_explanation)\n",
    "# Keep in mind it's showing two in the pattern and text, even though each only have one at the regex engine level\n",
    "print(m)\n",
    "print(m.string)\n",
    "m.string"
   ]
  },
  {
   "cell_type": "markdown",
   "metadata": {},
   "source": [
    "This is one of the more terrible things I've ever encountered.  Fortunately, it's not quite so bad if you use raw strings, in which the Python interpreter treats all backslashes as literal (unless they are escaping quotes).  Prefix a string with `r` to make it a raw string.  I've observed many users default to always using raw strings to define regex patterns."
   ]
  },
  {
   "cell_type": "code",
   "execution_count": null,
   "metadata": {},
   "outputs": [],
   "source": [
    "# Backslashes lose most of their special meaning in a raw string\n",
    "print(\"Hello\\nWorld\")\n",
    "print(r\"Hello\\nWorld\")"
   ]
  },
  {
   "cell_type": "code",
   "execution_count": null,
   "metadata": {},
   "outputs": [],
   "source": [
    "# But can still escape quotes.  Try with two backslashes, and see that both are kept\n",
    "print(r\"Hello \\\\\")\n",
    "r\"Hello \\\\\"\n"
   ]
  },
  {
   "cell_type": "markdown",
   "metadata": {},
   "source": [
    "Return to the example of matching a single backslash in a string, but use a raw string to create the pattern."
   ]
  },
  {
   "cell_type": "code",
   "execution_count": null,
   "metadata": {},
   "outputs": [],
   "source": [
    "# Doesn't help to make this one raw, as the backslash would still escape the quote\n",
    "slash_explanation = \"Forward slashes lean right /, and backslashes lean left \\\\\"\n",
    "# But the pattern can be simplified down to two backslashes: escaping at the regex level, but not the Python level\n",
    "re.search(r\"\\\\\", slash_explanation)"
   ]
  },
  {
   "cell_type": "markdown",
   "metadata": {},
   "source": [
    "Here are a few of the simplest special characters and their meanings.\n",
    "\n",
    "- `^` doesn't match a character, but the position at the **beginning** of a string.  It's called an **anchor**.  If `re.MULTILINE` is passed as an argument, it also matches positions after new lines.\n",
    "- `$` is the other anchor but matches the **ending** position.  It interacts similarly with `re.MULTILINE`.\n",
    "- `|` is **alternation**, the regex term for \"or\" logic.\n",
    "- `.` is a wildcard that matches everything except a line break.  Use with caution, because it usually matches more than you want and results in unintended patterns, especially combined with quantifiers (coming soon).  Every time in my experience that I've combined this wildcard with quantifiers, it's been a mistake."
   ]
  },
  {
   "cell_type": "code",
   "execution_count": null,
   "metadata": {},
   "outputs": [],
   "source": [
    "text = \"\"\"This is a multiline string.\n",
    "Is this the third line?\n",
    "No, it was the second. Doh!\n",
    "\"\"\"\n",
    "\n",
    "# What are the first characters of each line?\n",
    "print(re.findall(r\"^.\", text))\n",
    "print(re.findall(r\"^.\", text, re.MULTILINE))\n",
    "\n",
    "# What punctuation terminates each line?\n",
    "print(re.findall(r\".$\", text))\n",
    "print(re.findall(r\".$\", text, re.MULTILINE))\n",
    "\n",
    "text = \"The boy threw the ball at the girl.  He missed and it nearly hit a man, but a woman warned him in time.\"\n",
    "# Find anything representing a person entity\n",
    "print(re.findall(r\"boy|girl|man|woman\", text))\n"
   ]
  },
  {
   "cell_type": "markdown",
   "metadata": {},
   "source": [
    "### Exercise 2"
   ]
  },
  {
   "cell_type": "code",
   "execution_count": null,
   "metadata": {},
   "outputs": [],
   "source": [
    "homework = \"\"\"\n",
    "1 + 2 = ?\n",
    "3 * 4 = ?\n",
    "2 ^ 3 = ?\n",
    "4 / 2 = ?\n",
    "3 ^ 2 = ?\n",
    "\"\"\"\n",
    "\n",
    "# Find occurences of \"2\", but only if they are at the beginning of a line.\n",
    "\n",
    "# For all exponentiation problems, extract the expression to the left of the equals sign.\n",
    "# For example, if the text is \"a ^ b = ?\", the pattern should extract \"a ^ b\"\n",
    "\n",
    "# Find all the symbols representing the basic arithmetic operations.\n",
    "# Addition, subtraction, multiplication, and division.  Do not include exponentiation.  \n",
    "# Hint:  Some are special characters that need to be escaped, and others are not."
   ]
  },
  {
   "cell_type": "markdown",
   "metadata": {},
   "source": [
    "### `Pattern` objects"
   ]
  },
  {
   "cell_type": "markdown",
   "metadata": {},
   "source": [
    "Until now we've been handling our regex pattern as a (perhaps raw) string.  Under the hood, the regex engine compiles it into a `re.Pattern` object.  We can compile it beforehand with `re.compile()`, which has a few advantages.\n",
    "\n",
    "First, you can call methods from the pattern object, which is often more efficient.  Scroll up to the cheatsheet tables at the beginning of the notebook.  In fact, most of the `re` functions work by compiling the pattern and calling its equivalent method."
   ]
  },
  {
   "cell_type": "code",
   "execution_count": null,
   "metadata": {},
   "outputs": [],
   "source": [
    "# In the first 5 million natural numbers, how many times does an even digit appear?\n",
    "# And what's the most efficient way to find out?\n",
    "\n",
    "import time\n",
    "\n",
    "start = time.time()\n",
    "number_of_even_digits = 0\n",
    "for i in range(5000000):\n",
    "    number_of_even_digits += len(re.findall(r\"2|4|6|8|0\", str(i)))\n",
    "end = time.time()\n",
    "print(number_of_even_digits)\n",
    "print(\"Without a compiled pattern, it took this long: \", end - start)\n",
    "\n",
    "start = time.time()\n",
    "number_of_even_digits = 0\n",
    "pattern = re.compile(r\"2|4|6|8|0\")\n",
    "for i in range(5000000):\n",
    "    number_of_even_digits += len(pattern.findall(str(i)))\n",
    "end = time.time()\n",
    "print(number_of_even_digits)\n",
    "print(\"With a compiled pattern, it took this long: \", end - start)"
   ]
  },
  {
   "cell_type": "markdown",
   "metadata": {},
   "source": [
    "Second, it can reduce cognitive load on the programmer.  Assigning a descriptive name to the pattern will communicate what it does faster than mentally parsing out the expression.  Furthermore, with the `re.VERBOSE` flag to `re.compile()`, you can break the pattern into multiple lines and comment each part.  This is very helpful as advanced expressions can get pretty gnarly."
   ]
  },
  {
   "cell_type": "code",
   "execution_count": null,
   "metadata": {},
   "outputs": [],
   "source": [
    "homework = \"\"\"\n",
    "1 + 2 = ?\n",
    "3 * 4 = ?\n",
    "2 ^ 3 = ?\n",
    "4 / 2 = ?\n",
    "3 ^ 2 = ?\n",
    "\"\"\"\n",
    "\n",
    "# Tip: add the MULTILINE flag to the pattern, not just the method.  I got stuck on this example a long time because of that!\n",
    "# This is our first time needing multiple flags, so notice they are combined with a \"or\" | between them.\n",
    "pattern_arithm_oper = re.compile(r\"\"\"\n",
    "                                 \\+     # Literal +\n",
    "                                 |      # or\n",
    "                                 \\*     # Literal *\n",
    "                                 |      # or                                 \n",
    "                                 /      # Literal /\n",
    "                                 |      # or\n",
    "                                 -      # Literal -\n",
    "                                 \"\"\", re.VERBOSE|re.MULTILINE)\n",
    "\n",
    "print(pattern_arithm_oper.findall(homework))"
   ]
  },
  {
   "cell_type": "markdown",
   "metadata": {},
   "source": [
    "### Character Classes"
   ]
  },
  {
   "cell_type": "markdown",
   "metadata": {},
   "source": [
    "Alternation gets clunky if there are many possible characters you would like to match.  For example, if you were looking for any digit, who wants to deal with `\"0|1|2|3...|8|9\"`?  **Character classes** are a briefer alternative.  Here are some of the common built-in classes.\n",
    "\n",
    "| Symbol        | Purpose   |\n",
    "| ----          | ----      |\n",
    "| `\\d`          | A digit: 0, 1, 2, 3, 4, 5, 6, 7, 8, 9.\n",
    "| `\\D`          | Anything that is not a digit.\n",
    "| `\\w`          | A word character, which confusingly includes numbers.  That is, alphanumerics regardless of case.\n",
    "| `\\W`          | Anything that is not a word character.\n",
    "| `\\s`          | A space (or whitespace, if you prefer). Spaces, tabs, newlines, etc.\n",
    "| `\\S`          | Anything that is not whitespace.\n",
    "| `\\b`          | A word boundary, matching the empty string but only before or after word characters.\n",
    "| `\\B`          | Matches the empty string except when it is a word boundary."
   ]
  },
  {
   "cell_type": "code",
   "execution_count": null,
   "metadata": {},
   "outputs": [],
   "source": [
    "text = \"\"\"I was born in 1985, and my daughter was born in 2011.\n",
    "At time of writing these notes in 2024, I am 39 years old.\n",
    "My daughter recently celebrated her 13th birthday.  Teenagers are terrible!\"\"\"\n",
    "\n",
    "# Extract all years, that is, sequences of four consecutive digits (there's an even more elegant method we'll learn soon)\n",
    "pattern_year = re.compile(r\"\\d\\d\\d\\d\")\n",
    "print(pattern_year.findall(text))\n",
    "\n",
    "# Find all four letter alphanumeric sequences that form a distinct token\n",
    "pattern_4_len_seq = re.compile(r\"\\b\\w\\w\\w\\w\\b\")\n",
    "print(pattern_4_len_seq.findall(text))\n",
    "\n",
    "# Remember our first attempt at a tokenizer?  Do you see a particular failing that can be improved with one of these character classes?\n",
    "print(re.split(\" \", text))"
   ]
  },
  {
   "cell_type": "markdown",
   "metadata": {},
   "source": [
    "To make your own character class, enclose everything you want to include in square brackets `[]`. Remember that it's still matching only one character from the text to the class; repetition will arrive later.\n",
    "\n",
    "- You can use a `-` as a shortcut to specify a range of digits or letters of either case.  If you want a literal `-` in the class, backslash it.\n",
    "- You can complement the class by using `^` as the first character.  Notice it has different uses when inside a character class (complementing) than outside (beginning of string or line).  If you want a literal `^` in the class, make it the second character or later.\n",
    "- Other special characters lose their meaning when inside a character class and do not need to be escaped.  For example, `.` is no longer a wildcard, and now represents a literal dot."
   ]
  },
  {
   "cell_type": "code",
   "execution_count": null,
   "metadata": {},
   "outputs": [],
   "source": [
    "text = \"Americans spell it gray, the British spell it grey, but nobody spells it graey.\"\n",
    "\n",
    "# Retrieve any valid spelling\n",
    "print(re.findall(\"gr[ae]y\", text))\n",
    "\n",
    "# Pull out lower-case vowels.\n",
    "print(re.findall(\"[aeiouy]\", text))\n",
    "\n",
    "# Pull out anything that isn't a lower-case vowel\n",
    "print(re.findall(\"[^aeiouy]\", text))\n",
    "\n",
    "# Pull out only lowercase first five letters of alphabet\n",
    "print(re.findall(\"[a-e]\", text))\n",
    "\n",
    "# Pull out first five letters regardless of case\n",
    "print(re.findall(\"[a-eA-E]\", text))\n",
    "\n",
    "text = \"My name is Steve Carden, I was born in 1985, and my email address is stephen.carden.1@us.af.mil. I used to teach statistics, and now I am learning to be a software engineer.\"\n",
    "\n",
    "# Pull out the common punctuation symbols.  \n",
    "# What if we didn't want the periods in the email?  We'll be able to deal with that later.\n",
    "print(re.findall(\"[,.!?]\", text))"
   ]
  },
  {
   "cell_type": "markdown",
   "metadata": {},
   "source": [
    "### Exercise 3"
   ]
  },
  {
   "cell_type": "code",
   "execution_count": null,
   "metadata": {},
   "outputs": [],
   "source": [
    "# In hexadecimal (base 16), digits are represented by digits from 0 to 9 and the first six letters of the alphabet, a through f, possibly upper case\n",
    "# Construct and apply a pattern that can find the four cases that could represent a single hexadecimal digit\n",
    "# Hint: What can you use as a \"boundary\" to ensure you're only picking up singular symbols?\n",
    "text = \"A o 5 55 14 0 b 99 Y\"\n",
    "\n",
    "# Construct and apply a pattern that can find the four cases representing \n",
    "# the seconds portion when time is communicated in a format like 08:34:45\n",
    "# Basically, two-digit sequences from 00 to 60.\n",
    "text = \"89 00 5 59 60 61 0 34 000 600 65 222\"\n",
    "\n",
    "# Construct and apply a pattern that can find the three sequences that represent a valid telephone number.\n",
    "# Area code is included, and the three sections must be connected by a dash.\n",
    "# For example, 123-456-7890\n",
    "text = \"912-584-0018 584-0018 123-45-6789 2350-1111 912-283-8411 555-867-5309 555555555 123-456-78900\""
   ]
  },
  {
   "cell_type": "markdown",
   "metadata": {},
   "source": [
    "### Repetition and Quantifiers; Non-Capturing Groups"
   ]
  },
  {
   "cell_type": "markdown",
   "metadata": {},
   "source": [
    "I bet you're already seeing the need to include repetition in a pattern, and there is indeed a robust system.\n",
    "\n",
    "- `?` Matches 0 or 1 occurrences of the preceeding segment. Basically a way to designate the segment is optional.\n",
    "- `+` Matches 1 or more occurrences of the preceeding segment. Use for non-optional, potentially repeating segments.\n",
    "- `*` Matches 0 or more occurrences of the preceeding segment. Use for optional, potentially repeating segments.\n",
    "- `{m}` Matches exactly `m` repetitions of the preceeding segment.\n",
    "- `{m,n}` Matches between `m` and `n` repetitions of the preceeding segment. Either of `m` or `n` can be left blank to get \"less than\" and \"greater than\" behavior."
   ]
  },
  {
   "cell_type": "code",
   "execution_count": null,
   "metadata": {},
   "outputs": [],
   "source": [
    "text = \"A non-secure link looks like this: http://www.google.com.  A secure link looks like this: https://www.google.com.\"\n",
    "# The \"?\"\" only applies to the \"s\"\n",
    "pattern_protocol = re.compile(r\"https?\")\n",
    "print(pattern_protocol.findall(text))\n",
    "\n",
    "text = \"Some abbreviate it PhD, and some say Ph.D., but it means the same thing.\"\n",
    "pattern_phd = re.compile(r\"Ph\\.?D\\.?\")\n",
    "print(pattern_phd.findall(text))\n",
    "\n",
    "# A more compact way to search for phone numbers\n",
    "text = \"912-584-0018 584-0018 123-45-6789 2350-1111 912-283-8411 555-867-5309 555555555 123-456-78900\"\n",
    "pattern_phone = re.compile(r\"\\b\\d{3}-\\d{3}-\\d{4}\\b\")\n",
    "print(pattern_phone.findall(text))\n",
    "\n",
    "# I don't allow my checking account to drop below $100, and any amount greater than $9999 overflows into an investment account.\n",
    "# Which values might I see on my bank statement?  Assume it always displays to the nearest cent.\n",
    "text = \"$10.00 $5432.10 $5432 5432.10 $22222 $99.99 $100.00 $100 $9999.99 $9999.999 $9999.9\"\n",
    "pattern_cash = re.compile(r\"\"\"                          \n",
    "                          \\$        # Literal $\n",
    "                          \\d{3,4}   # At least 3 but no more than 4 digits                          \n",
    "                          \\.        # A literal .\n",
    "                          \\d{2}     # Exactly two digits\n",
    "                          \\b        # End with a word boundary\n",
    "                          \"\"\", re.VERBOSE)\n",
    "print(pattern_cash.findall(text))\n"
   ]
  },
  {
   "cell_type": "markdown",
   "metadata": {},
   "source": [
    "By default the quantifier only applies to the immediately preceeding symbol.  If you want it to apply to a larger part of the pattern, your first instinct might be to create a subpattern with `(...)`.  This does work, but it also **captures** the contents, which is a concept we haven't studied yet.  Capturing changes the behavior of some functions such as `findall()`, so for the moment let's use a **non-capturing group** with `(?:...)`."
   ]
  },
  {
   "cell_type": "code",
   "execution_count": null,
   "metadata": {},
   "outputs": [],
   "source": [
    "# Modify this problem so that the area code is optional\n",
    "# It should find one additional occurence\n",
    "# For example, 123-456-7890\n",
    "text = \"912-584-0018 584-0018 123-45-6789 2350-1111 912-283-8411 555-867-5309 555555555 123-456-78900\"\n",
    "pattern_phone = re.compile(r\"\"\"\n",
    "                           \\b           # Boundary at beginning\n",
    "                           (?:          # Begin non-capturing group\n",
    "                           \\d{3}-       # Area code and dash\n",
    "                           )?           # End non-capturing group, and make it optional\n",
    "                           \\d{3}-\\d{4}  # The rest of the pattern\n",
    "                           \\b           # End with a boundary\n",
    "                           \"\"\", re.VERBOSE)\n",
    "print(pattern_phone.findall(text))"
   ]
  },
  {
   "cell_type": "markdown",
   "metadata": {},
   "source": [
    "### Excercise 4"
   ]
  },
  {
   "cell_type": "code",
   "execution_count": null,
   "metadata": {},
   "outputs": [],
   "source": [
    "# Extract all numbers.\n",
    "text = \"\"\"I was born in 1985, and my daughter was born in 2011.\n",
    "At time of writing these notes, I am 39 years old.  How am I still alive?\n",
    "My daughter recently celebrated her 13th birthday.  Teenagers are terrible!\"\"\"\n",
    "\n",
    "# Extract the last alphanumeric sequence of each line, including punctuation.\n",
    "\n",
    "# Extract all words (not including numbers this time) that have at least 4 letters.\n"
   ]
  },
  {
   "cell_type": "markdown",
   "metadata": {},
   "source": [
    "### Capturing Groups"
   ]
  },
  {
   "cell_type": "markdown",
   "metadata": {},
   "source": [
    "Often within an overall pattern, there are one or more subpatterns of interest.  With parentheses `(...)` we can capture these subpatterns into **groups** for later reference and processing.\n",
    "\n",
    "- If your pattern contains any capturing groups, `findall()` will change behavior to only printing the groups rather than the entire match.\n",
    "\n",
    "- If you need to work extensively with groups, use `search()` or `finditer()` to get one or more `Match` objects, then `Match.group()` to refer to them.  `Match.group(0)` returns the entire match, and `Match.group(n)` refers to the `n`th group in your pattern.\n",
    "\n",
    "- Groups can be named with `(?P<name>...)`, and later referenced with`(?P=<name>)`."
   ]
  },
  {
   "cell_type": "code",
   "execution_count": null,
   "metadata": {},
   "outputs": [],
   "source": [
    "text = \"Personnel on the NITMRE project include Dalton Walker, Chase Perry, Michael Fox, Steve Carden, Leslie Douglas, and Alex Sommers.\"\n",
    "# Assuming that two consecutive capitalized words represent first and last names, I'm going to extract names and group the first and last parts\n",
    "pattern_names = re.compile(r\"\"\"\n",
    "                           ([A-Z][a-z]+)    # Capital letter followed by at least one lowercase letters, grouped\n",
    "                           \\s               # Whitepsace between\n",
    "                           ([A-Z][a-z]+)    # Same pattern for the last name\n",
    "                           \"\"\", re.VERBOSE)\n",
    "\n",
    "# See how we get a list of tuples of strings\n",
    "print(pattern_names.findall(text))\n",
    "# We could get lists of first or last names from that structure, but let's work with Match objects\n",
    "all_matches = pattern_names.finditer(text)\n",
    "# The groups() method is similar to findall() for this case, giving tuples with the groups\n",
    "# Edit to group(), and try indices 0, 1, 2.\n",
    "[print(m.groups()) for m in all_matches]"
   ]
  },
  {
   "cell_type": "markdown",
   "metadata": {},
   "source": [
    "We can then extract information systematically from each group, and recombine to do things like create usernames for each person."
   ]
  },
  {
   "cell_type": "code",
   "execution_count": null,
   "metadata": {},
   "outputs": [],
   "source": [
    "all_matches = pattern_names.finditer(text)\n",
    "usernames = [m.group(1)[0].lower() + m.group(2).lower() for m in all_matches]\n",
    "usernames"
   ]
  },
  {
   "cell_type": "markdown",
   "metadata": {},
   "source": [
    "Here is a recent use-case of capturing groups.  In markdown formatting, here is the syntax for a url.  Double click the cell to see the raw text.  A label is in brackets, and the url is in parentheses.\n",
    "\n",
    "For the cheapest, greasiest pizza in town, head over to [Little Caesar's](www.littlecaesars.com)!\n",
    "\n",
    "An NLP application might want only the label from this, so let's match the entire pattern, capture the label in a group, and substitute the entire expression with just the captured label.  This is a difficult pattern because of the need to escape special characters and the variety of text that can be in the label."
   ]
  },
  {
   "cell_type": "code",
   "execution_count": null,
   "metadata": {},
   "outputs": [],
   "source": [
    "text = \"\"\"For the cheapest, greasiest pizza in town, head over to [Little Caesar's](www.littlecaesars.com)!\n",
    "I start my PC building research at [PC Part Picker](www.pcpartpicker.com).\n",
    "For learning how to be a software engineer, the courses at [Udemy](digitalu.udemy.com) have been invaluable.\"\"\"\n",
    "pattern_markdown = re.compile(r\"\"\"\n",
    "                              \\[            # Literal open bracket\n",
    "                              (             # Start of group\n",
    "                              [^\\]]+        # Anything that is not a closing bracket\n",
    "                              )             # Close group\n",
    "                              \\]            # Literal close bracket\n",
    "                              \\(            # Literal open parentheses\n",
    "                              [^)]+         # Anything that is not a closing parentheses\n",
    "                              \\)            # Literal closing parentheses\n",
    "                               \"\"\", re.VERBOSE)\n",
    "# Without comments, I love how indecipherable the pattern is: \\[([^\\]]+)\\]\\([^)]+\\)\n",
    "\n",
    "# Remember, this is just showing the group\n",
    "print(pattern_markdown.findall(text))\n",
    "# This lets us see the entire match\n",
    "all_matches = pattern_markdown.finditer(text)\n",
    "[print(m.group()) for m in all_matches]"
   ]
  },
  {
   "cell_type": "markdown",
   "metadata": {},
   "source": [
    "Try substitution. So far we only know how to substitute a static string, like so."
   ]
  },
  {
   "cell_type": "code",
   "execution_count": null,
   "metadata": {},
   "outputs": [],
   "source": [
    "text2 = pattern_markdown.sub(\"<LABEL HERE>\", text)\n",
    "print(text2)"
   ]
  },
  {
   "cell_type": "markdown",
   "metadata": {},
   "source": [
    "But we can pass in a function of the match instead, and whatever the function returns will be the replacement.  This one can be briefly accomplished with a lamba function that returns the first extracted group."
   ]
  },
  {
   "cell_type": "code",
   "execution_count": null,
   "metadata": {},
   "outputs": [],
   "source": [
    "text3 = pattern_markdown.sub(lambda match: match.group(1), text)\n",
    "print(text3)"
   ]
  },
  {
   "cell_type": "markdown",
   "metadata": {},
   "source": [
    "You can even reference a group early in the pattern later on in the same pattern with a backslash and integer, such as `\\2`.  Let's do that to identify accidental repetition of words."
   ]
  },
  {
   "cell_type": "code",
   "execution_count": null,
   "metadata": {},
   "outputs": [],
   "source": [
    "text = \"The quick brown brown fox jumped over the the lazy dog.\"\n",
    "\n",
    "pattern_repeat = re.compile(r\"\"\"\n",
    "                            (\\w+)   # Capture an alphanumeric sequence of any length\n",
    "                            \\s      # Look for a space\n",
    "                            \\1      # Look for whatever was previously captured\n",
    "                            \"\"\", re.VERBOSE)\n",
    "\n",
    "all_matches = pattern_repeat.finditer(text)\n",
    "[print(m.group()) for m in all_matches]\n",
    "\n",
    "# Correct the error\n",
    "pattern_repeat.sub(lambda match: match.group(1), text)"
   ]
  },
  {
   "cell_type": "markdown",
   "metadata": {},
   "source": [
    "If you don't want the cognitive burden of remembering the order of groups in a complicated pattern, you can name them.\n",
    "\n",
    "Everyone knows the first part of a phone number is the area code.  Did you know the next parts are called the \"exchange\" and \"subscriber\"?"
   ]
  },
  {
   "cell_type": "code",
   "execution_count": null,
   "metadata": {},
   "outputs": [],
   "source": [
    "text = \"912-584-0018 584-0018 123-45-6789 2350-1111 912-283-8411 555-867-5309 555555555 123-456-78900\"\n",
    "pattern_phone = re.compile(r\"\\b(?P<area>\\d{3})-(?P<exchange>\\d{3})-(?P<subscriber>\\d{4})\\b\")\n",
    "\n",
    "# When groups are named, you can get a dictionary with names as keys and groups as values.  This is a method on a match object.\n",
    "all_matches = pattern_phone.finditer(text)\n",
    "[print(m.groupdict()) for m in all_matches]\n"
   ]
  },
  {
   "cell_type": "markdown",
   "metadata": {},
   "source": [
    "### Exercise 5"
   ]
  },
  {
   "cell_type": "code",
   "execution_count": null,
   "metadata": {},
   "outputs": [],
   "source": [
    "# Below is the output from \"ls\" in one of my directories.  \n",
    "# For each file, extract the filename and extension, and place them in a dictionary.\n",
    "# Keys should be \"name\" and \"extension\"\n",
    "text = \"\"\"\n",
    "date_parsing.ipynb               learning_hdbscan.ipynb   sawyer.txt              text_for_staging_test.txt\n",
    "bin_contents.txt                 gatsby.txt               power_tests.csv         shapiro.ipynb\n",
    "communicating_with_triton.ipynb  hyperlink_removal.ipynb  psql_data.txt\n",
    "\"\"\"\n",
    "\n",
    "# I mixed up my list of monitor resolutions with memory addresses and random values. Agh!\n",
    "# Help me fix it by extracting the entries that can be interpreted as width by height,\n",
    "# and making a list of strings that I can place in a CSS element.\n",
    "# for example, \"height: 100px; width: 200px;\"\n",
    "text = \"\"\"\n",
    "1280x720\n",
    "0x6fed4\n",
    "0x7ffe5367e044\n",
    "1920x1080\n",
    "640x480\n",
    "100x200x300\n",
    "1024x768\n",
    "\"\"\"\n",
    "pattern_resolution = re.compile(r\"\\b(?P<height>\\d+)x(?P<width>\\d+\\b)\")"
   ]
  },
  {
   "cell_type": "markdown",
   "metadata": {},
   "source": [
    "### Lookarounds next?"
   ]
  }
 ],
 "metadata": {
  "kernelspec": {
   "display_name": "Python 3",
   "language": "python",
   "name": "python3"
  },
  "language_info": {
   "codemirror_mode": {
    "name": "ipython",
    "version": 3
   },
   "file_extension": ".py",
   "mimetype": "text/x-python",
   "name": "python",
   "nbconvert_exporter": "python",
   "pygments_lexer": "ipython3",
   "version": "3.10.12"
  }
 },
 "nbformat": 4,
 "nbformat_minor": 2
}
